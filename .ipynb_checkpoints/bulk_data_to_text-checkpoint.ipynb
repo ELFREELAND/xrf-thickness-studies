{
 "cells": [
  {
   "cell_type": "code",
   "execution_count": 12,
   "id": "22b86f15",
   "metadata": {},
   "outputs": [],
   "source": [
    "from matplotlib import pyplot as plt\n",
    "import xml.etree.ElementTree as et\n",
    "import numpy as np\n",
    "import glob\n",
    "import os.path"
   ]
  },
  {
   "cell_type": "code",
   "execution_count": 13,
   "id": "fbca9d7c",
   "metadata": {},
   "outputs": [],
   "source": [
    "def getRawCountsData(r):\n",
    "    data = r.findall(\"./ClassInstance[@Type='TRTSpectrum']/Channels\")[0].text.split(\",\")\n",
    "    for i in range(0, len(data)):\n",
    "        data[i] = int(data[i])\n",
    "        \n",
    "    return np.array(data)"
   ]
  },
  {
   "cell_type": "code",
   "execution_count": 15,
   "id": "0e894ad5",
   "metadata": {},
   "outputs": [],
   "source": [
    "#path_label should be the YYYYMMDD_CVD_XXXX label in front of the folder\n",
    "path_label = \"20230531_CVD_3158\"\n",
    "\n",
    "for i in glob.glob(\"./\"+path_label+\"_map/*.spx\"):\n",
    "\n",
    "    #get root elements for data from detector 1 and detector 2\n",
    "    root = et.parse(i).getroot()\n",
    "\n",
    "    #change extension to .txt and place in text_out folder\n",
    "    txt_name = (os.path.split(i)[0] +\n",
    "                \"/text_out/\" +\n",
    "                os.path.split(i)[1][0:-4] +\n",
    "                \".txt\")\n",
    "        \n",
    "    f = open(txt_name, \"w\")\n",
    "    for k in getRawCountsData(root):\n",
    "        f.write(str(k) + \"\\n\")\n",
    "            \n",
    "    f.close()\n",
    "    #print(\"wrote files for \" + str(i) + \", \" + str(j))"
   ]
  },
  {
   "cell_type": "code",
   "execution_count": null,
   "id": "7e9be486-4771-4ffa-965f-b2aef2354a56",
   "metadata": {},
   "outputs": [],
   "source": []
  }
 ],
 "metadata": {
  "kernelspec": {
   "display_name": "Python 3 (ipykernel)",
   "language": "python",
   "name": "python3"
  },
  "language_info": {
   "codemirror_mode": {
    "name": "ipython",
    "version": 3
   },
   "file_extension": ".py",
   "mimetype": "text/x-python",
   "name": "python",
   "nbconvert_exporter": "python",
   "pygments_lexer": "ipython3",
   "version": "3.11.3"
  }
 },
 "nbformat": 4,
 "nbformat_minor": 5
}
