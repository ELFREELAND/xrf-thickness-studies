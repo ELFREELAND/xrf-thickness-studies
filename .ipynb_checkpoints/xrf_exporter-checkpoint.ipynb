{
 "cells": [
  {
   "cell_type": "code",
   "execution_count": 2,
   "id": "059e4f22",
   "metadata": {},
   "outputs": [],
   "source": [
    "from matplotlib import pyplot as plt\n",
    "import xml.etree.ElementTree as et\n",
    "import numpy as np"
   ]
  },
  {
   "cell_type": "markdown",
   "id": "d0c2221c",
   "metadata": {},
   "source": [
    "<b>The root element defined in this cell will be passed to functions in later cells"
   ]
  },
  {
   "cell_type": "code",
   "execution_count": 4,
   "id": "ef0c6fee",
   "metadata": {},
   "outputs": [],
   "source": [
    "file_path = \"./20230531_CVD_scans/CVD3158_offset 1.spx\"\n",
    "tree = et.parse(file_path)\n",
    "root = tree.getroot()"
   ]
  },
  {
   "cell_type": "code",
   "execution_count": 5,
   "id": "7b71eeeb",
   "metadata": {},
   "outputs": [],
   "source": [
    "def getEnergyAxis(r):\n",
    "    num_channels = int(r.findall(\"./ClassInstance[@Type='TRTSpectrum']/ClassInstance[@Type='TRTSpectrumHeader']/\"\n",
    "                                 \"ChannelCount\")[0].text)\n",
    "    chan_to_en_m = float(r.findall(\"./ClassInstance[@Type='TRTSpectrum']/ClassInstance[@Type='TRTSpectrumHeader']/\"\n",
    "                                 \"CalibLin\")[0].text)\n",
    "    chan_to_en_b = float(r.findall(\"./ClassInstance[@Type='TRTSpectrum']/ClassInstance[@Type='TRTSpectrumHeader']/\"\n",
    "                                 \"CalibAbs\")[0].text)\n",
    "    return np.arange(0, 4096)*chan_to_en_m + chan_to_en_b"
   ]
  },
  {
   "cell_type": "code",
   "execution_count": 6,
   "id": "d350ebcf",
   "metadata": {},
   "outputs": [],
   "source": [
    "def getRawCountsData(r):\n",
    "    data = r.findall(\"./ClassInstance[@Type='TRTSpectrum']/Channels\")[0].text.split(\",\")\n",
    "    for i in range(0, len(data)):\n",
    "        data[i] = int(data[i])\n",
    "        \n",
    "    return np.array(data)"
   ]
  },
  {
   "cell_type": "code",
   "execution_count": 7,
   "id": "80187fbb",
   "metadata": {},
   "outputs": [],
   "source": [
    "def getBackgroundData(r):\n",
    "    background = r.findall(\"./ClassInstance[@Type='TRTSpectrum']/ChildClassInstances/ClassInstance\"\n",
    "          \"[@Type='TRTXRFBulkQuantificationResults']/TRTSpectrumQuantificationResults/\"\n",
    "          \"ClassInstance[@Type='TRTSpectrumList']/ChildClassInstances/ClassInstance\"\n",
    "          \"[@Type='TRTSpectrum']/Channels\")[0].text.split(\",\")\n",
    "    for i in range(0, len(background)):\n",
    "        background[i] = float(background[i])\n",
    "        \n",
    "    return np.array(background)"
   ]
  },
  {
   "cell_type": "code",
   "execution_count": 8,
   "id": "c03e74dd",
   "metadata": {},
   "outputs": [],
   "source": [
    "def toCommaSep(n):\n",
    "    \"\"\"convert numpy.ndarray to comma separated string\"\"\"\n",
    "    \n",
    "    s = \"\"\n",
    "    for i in n:\n",
    "        s = s + str(i) + \",\"\n",
    "    return s"
   ]
  },
  {
   "cell_type": "code",
   "execution_count": 9,
   "id": "0c5c7e3d",
   "metadata": {},
   "outputs": [],
   "source": [
    "with open(\"out.txt\", \"w\") as f:\n",
    "    for i in getRawCountsData(root):\n",
    "        f.write(str(i)+\"\\n\")"
   ]
  },
  {
   "cell_type": "code",
   "execution_count": null,
   "id": "d8688d39",
   "metadata": {},
   "outputs": [],
   "source": []
  }
 ],
 "metadata": {
  "kernelspec": {
   "display_name": "Python 3 (ipykernel)",
   "language": "python",
   "name": "python3"
  },
  "language_info": {
   "codemirror_mode": {
    "name": "ipython",
    "version": 3
   },
   "file_extension": ".py",
   "mimetype": "text/x-python",
   "name": "python",
   "nbconvert_exporter": "python",
   "pygments_lexer": "ipython3",
   "version": "3.11.3"
  }
 },
 "nbformat": 4,
 "nbformat_minor": 5
}
