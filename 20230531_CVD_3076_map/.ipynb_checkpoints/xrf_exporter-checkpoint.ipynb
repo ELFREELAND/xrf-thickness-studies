{
 "cells": [
  {
   "cell_type": "code",
   "execution_count": 1,
   "id": "1e43ff17-e72b-456f-9152-a1e50c2097dc",
   "metadata": {},
   "outputs": [],
   "source": [
    "from matplotlib import pyplot as plt\n",
    "import xml.etree.ElementTree as et\n",
    "import numpy as np"
   ]
  },
  {
   "cell_type": "markdown",
   "id": "4a0b6ae0-88a0-41fd-8faa-e5d3f27a8398",
   "metadata": {},
   "source": [
    "<b>The root element defined in this cell will be passed to functions in later cells"
   ]
  },
  {
   "cell_type": "code",
   "execution_count": 2,
   "id": "439b9a11-495d-4233-9c43-fcb607ca7300",
   "metadata": {},
   "outputs": [],
   "source": [
    "file_path = \"./20230531_CVD_3076_map/20230531_CVD_3076_60s_10x10ptsdet_1_0_0.spx\"\n",
    "tree = et.parse(file_path)\n",
    "root = tree.getroot()"
   ]
  },
  {
   "cell_type": "code",
   "execution_count": 3,
   "id": "3e6eb0ec-57cd-4e3e-846d-abfb10af2b4a",
   "metadata": {},
   "outputs": [],
   "source": [
    "def getEnergyAxis(r):\n",
    "    num_channels = int(r.findall(\"./ClassInstance[@Type='TRTSpectrum']/ClassInstance[@Type='TRTSpectrumHeader']/\"\n",
    "                                 \"ChannelCount\")[0].text)\n",
    "    chan_to_en_m = float(r.findall(\"./ClassInstance[@Type='TRTSpectrum']/ClassInstance[@Type='TRTSpectrumHeader']/\"\n",
    "                                 \"CalibLin\")[0].text)\n",
    "    chan_to_en_b = float(r.findall(\"./ClassInstance[@Type='TRTSpectrum']/ClassInstance[@Type='TRTSpectrumHeader']/\"\n",
    "                                 \"CalibAbs\")[0].text)\n",
    "    return np.arange(0, 4096)*chan_to_en_m + chan_to_en_b"
   ]
  },
  {
   "cell_type": "code",
   "execution_count": 4,
   "id": "97277d1b-7c4e-43d2-9430-76e61df39796",
   "metadata": {},
   "outputs": [],
   "source": [
    "def getRawCountsData(r):\n",
    "    data = r.findall(\"./ClassInstance[@Type='TRTSpectrum']/Channels\")[0].text.split(\",\")\n",
    "    for i in range(0, len(data)):\n",
    "        data[i] = int(data[i])\n",
    "        \n",
    "    return np.array(data)"
   ]
  },
  {
   "cell_type": "code",
   "execution_count": 5,
   "id": "df9d1f16-3c2b-45bd-bbef-764dd5fd09ee",
   "metadata": {},
   "outputs": [],
   "source": [
    "def getBackgroundData(r):\n",
    "    background = r.findall(\"./ClassInstance[@Type='TRTSpectrum']/ChildClassInstances/ClassInstance\"\n",
    "          \"[@Type='TRTXRFBulkQuantificationResults']/TRTSpectrumQuantificationResults/\"\n",
    "          \"ClassInstance[@Type='TRTSpectrumList']/ChildClassInstances/ClassInstance\"\n",
    "          \"[@Type='TRTSpectrum']/Channels\")[0].text.split(\",\")\n",
    "    for i in range(0, len(background)):\n",
    "        background[i] = float(background[i])\n",
    "        \n",
    "    return np.array(background)"
   ]
  },
  {
   "cell_type": "code",
   "execution_count": 6,
   "id": "42bdf655-5078-4a12-91f0-620fa7a1f76d",
   "metadata": {},
   "outputs": [],
   "source": [
    "def toCommaSep(n):\n",
    "    \"\"\"convert numpy.ndarray to comma separated string\"\"\"\n",
    "    \n",
    "    s = \"\"\n",
    "    for i in n:\n",
    "        s = s + str(i) + \",\"\n",
    "    return s"
   ]
  },
  {
   "cell_type": "code",
   "execution_count": 7,
   "id": "58521b79-65df-4d14-adc7-6b838415bb80",
   "metadata": {},
   "outputs": [],
   "source": [
    "with open(\"out.txt\", \"w\") as f:\n",
    "    for i in getRawCountsData(root):\n",
    "        f.write(str(i)+\"\\n\")"
   ]
  },
  {
   "cell_type": "code",
   "execution_count": null,
   "id": "d934ddba-2b4d-4c87-a1d4-b2b273182c57",
   "metadata": {},
   "outputs": [],
   "source": []
  }
 ],
 "metadata": {
  "kernelspec": {
   "display_name": "Python 3 (ipykernel)",
   "language": "python",
   "name": "python3"
  },
  "language_info": {
   "codemirror_mode": {
    "name": "ipython",
    "version": 3
   },
   "file_extension": ".py",
   "mimetype": "text/x-python",
   "name": "python",
   "nbconvert_exporter": "python",
   "pygments_lexer": "ipython3",
   "version": "3.10.9"
  }
 },
 "nbformat": 4,
 "nbformat_minor": 5
}
