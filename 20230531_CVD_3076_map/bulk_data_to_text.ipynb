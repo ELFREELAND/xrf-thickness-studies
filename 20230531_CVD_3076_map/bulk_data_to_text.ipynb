{
 "cells": [
  {
   "cell_type": "code",
   "execution_count": 6,
   "id": "7d9ec817-58fe-4e5c-a8e5-22cc60582056",
   "metadata": {},
   "outputs": [],
   "source": [
    "from matplotlib import pyplot as plt\n",
    "import xml.etree.ElementTree as et\n",
    "import numpy as np"
   ]
  },
  {
   "cell_type": "code",
   "execution_count": 7,
   "id": "0c8e75d1-00f4-47f8-8f40-528485a66a42",
   "metadata": {},
   "outputs": [],
   "source": [
    "def getRawCountsData(r):\n",
    "    data = r.findall(\"./ClassInstance[@Type='TRTSpectrum']/Channels\")[0].text.split(\",\")\n",
    "    for i in range(0, len(data)):\n",
    "        data[i] = int(data[i])\n",
    "        \n",
    "    return np.array(data)"
   ]
  },
  {
   "cell_type": "code",
   "execution_count": 8,
   "id": "bfb7eade-9658-4728-9f79-0140b0a641ad",
   "metadata": {},
   "outputs": [],
   "source": [
    "output_folder = \"./text_out/\"\n",
    "\n",
    "for i in range(0, 10):\n",
    "    for j in range(0, 10): # loop from file (...0_0) to file (...9_9)\n",
    "        #get root elements for data from detector 1 and detector 2\n",
    "        root1 = et.parse(\"20230531_CVD_3076_60s_10x10ptsdet_1_\" + str(i) + \"_\" + str(j) + \".spx\").getroot()\n",
    "        root2 = et.parse(\"20230531_CVD_3076_60s_10x10ptsdet_2_\" + str(i) + \"_\" + str(j) + \".spx\").getroot()\n",
    "        \n",
    "        f1 = open(output_folder + \"det_1_\" + str(i) + \"_\" + str(j) + \".txt\", \"w\")\n",
    "        for k in getRawCountsData(root1):\n",
    "            f1.write(str(k) + \"\\n\")\n",
    "            \n",
    "        f1.close()\n",
    "        \n",
    "        f2 = open(output_folder + \"det_2_\" + str(i) + \"_\" + str(j) + \".txt\", \"w\")\n",
    "        for k in getRawCountsData(root2):\n",
    "            f2.write(str(k) + \"\\n\")\n",
    "            \n",
    "        f2.close()"
   ]
  }
 ],
 "metadata": {
  "kernelspec": {
   "display_name": "Python 3 (ipykernel)",
   "language": "python",
   "name": "python3"
  },
  "language_info": {
   "codemirror_mode": {
    "name": "ipython",
    "version": 3
   },
   "file_extension": ".py",
   "mimetype": "text/x-python",
   "name": "python",
   "nbconvert_exporter": "python",
   "pygments_lexer": "ipython3",
   "version": "3.10.9"
  }
 },
 "nbformat": 4,
 "nbformat_minor": 5
}
