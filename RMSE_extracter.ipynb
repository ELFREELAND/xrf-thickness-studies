{
 "cells": [
  {
   "cell_type": "code",
   "execution_count": 4,
   "id": "160bcaf7-9a61-4842-b157-f671eac7c91f",
   "metadata": {},
   "outputs": [],
   "source": [
    "import numpy as np\n",
    "from matplotlib import pyplot as plt\n",
    "import glob"
   ]
  },
  {
   "cell_type": "code",
   "execution_count": 5,
   "id": "c21cafb0-9ae7-4ac3-b4c7-90febd287fe1",
   "metadata": {},
   "outputs": [],
   "source": [
    "file_list = glob.glob(\"./cvd3158 fitting experiments/fits_out_I/FIT/*/*\") #list of file names\n",
    "rmse_list = np.array([])"
   ]
  },
  {
   "cell_type": "code",
   "execution_count": 6,
   "id": "6bf77855-4744-4260-9a69-6e67fbab20b3",
   "metadata": {},
   "outputs": [
    {
     "name": "stdout",
     "output_type": "stream",
     "text": [
      "34.5980936924835\n"
     ]
    }
   ],
   "source": [
    "for i in file_list:\n",
    "    f = open(i, \"r\")\n",
    "    f.readline()\n",
    "    f.readline()\n",
    "    f.readline()\n",
    "    f.readline()\n",
    "    y = np.array([ float(i) for i in f.readline().split(\" \")[3:-1] ])\n",
    "    yf = np.array([ float(i) for i in f.readline().split(\" \")[3:-1] ])\n",
    "\n",
    "    f.close()\n",
    "    \n",
    "    rmse_list = np.append(rmse_list, np.sqrt(sum((y-yf)**2)/y.size))\n",
    "\n",
    "print(np.average(rmse_list))"
   ]
  },
  {
   "cell_type": "code",
   "execution_count": null,
   "id": "6fe4dafa-30ef-4cdd-a40d-843cf4ed3f09",
   "metadata": {},
   "outputs": [],
   "source": []
  }
 ],
 "metadata": {
  "kernelspec": {
   "display_name": "Python 3 (ipykernel)",
   "language": "python",
   "name": "python3"
  },
  "language_info": {
   "codemirror_mode": {
    "name": "ipython",
    "version": 3
   },
   "file_extension": ".py",
   "mimetype": "text/x-python",
   "name": "python",
   "nbconvert_exporter": "python",
   "pygments_lexer": "ipython3",
   "version": "3.11.3"
  }
 },
 "nbformat": 4,
 "nbformat_minor": 5
}
