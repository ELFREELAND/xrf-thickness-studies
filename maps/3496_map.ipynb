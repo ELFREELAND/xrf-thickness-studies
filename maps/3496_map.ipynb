{
 "cells": [
  {
   "cell_type": "markdown",
   "id": "d038b347-7628-4096-a898-ba9a2e819c23",
   "metadata": {},
   "source": [
    "This script is specifically to create a heatmap of the 3496 data at an appropriate size for the MS&T poster."
   ]
  },
  {
   "cell_type": "markdown",
   "id": "1a570e84-5a15-40e5-91a6-856babc58836",
   "metadata": {},
   "source": [
    "# Imports"
   ]
  },
  {
   "cell_type": "code",
   "execution_count": 3,
   "id": "8a4a4e62",
   "metadata": {},
   "outputs": [],
   "source": [
    "#science imports\n",
    "import numpy as np\n",
    "from matplotlib import pyplot as plt\n",
    "from matplotlib import colors\n",
    "from scipy import stats\n",
    "\n",
    "#standard library imports\n",
    "import copy\n",
    "import glob\n",
    "import os\n",
    "import os.path as path\n",
    "import time\n",
    "\n",
    "#PyMca imports\n",
    "from PyMca5.PyMca import McaAdvancedFitBatch as batch\n",
    "from PyMca5.PyMcaPhysics.xrf.XRFBatchFitOutput import OutputBuffer"
   ]
  },
  {
   "cell_type": "markdown",
   "id": "d79ddd1e-679a-42aa-a9e2-500b52d693a1",
   "metadata": {},
   "source": [
    "# Set path label for file reading\n",
    "This is the YYYYMMDD_CVD_XXXX label at the beginning of the XRF map folder."
   ]
  },
  {
   "cell_type": "raw",
   "id": "4bfaede1-43db-4b96-9ccf-4f7d236b5672",
   "metadata": {},
   "source": [
    "#this just allows easy folder selection so you don't have to copy the name from the file browser\n",
    "\n",
    "folders = glob.glob(\"*_map\")\n",
    "\n",
    "for i in range(0, len(folders)):\n",
    "    print(\"{0:>2d} - {1:s} - {2}\".format(i, folders[i], len(glob.glob(folders[i]+\"/*.spx\"))))"
   ]
  },
  {
   "cell_type": "code",
   "execution_count": 4,
   "id": "595c09d0-58f9-4ed8-bd82-825c734f70a2",
   "metadata": {},
   "outputs": [],
   "source": [
    "path_label = \"20230613_CVD_3496\"\n",
    "\n",
    "sample_name = \"CVD\" + path_label[-4:]"
   ]
  },
  {
   "cell_type": "markdown",
   "id": "a03e70e4-dfa5-432d-8903-a3989152a10a",
   "metadata": {},
   "source": [
    "# File reading"
   ]
  },
  {
   "cell_type": "markdown",
   "id": "2b6f1f46-a207-44c1-9788-b1495c66bf47",
   "metadata": {},
   "source": [
    "## Prepare data arrays\n",
    "Determine grid resolution and create empty data arrays in preparation for reading"
   ]
  },
  {
   "cell_type": "code",
   "execution_count": 5,
   "id": "49837627-910f-4264-86b6-9a23d572f3a9",
   "metadata": {},
   "outputs": [
    {
     "name": "stdout",
     "output_type": "stream",
     "text": [
      "10x10 grid\n"
     ]
    }
   ],
   "source": [
    "#set number of points and dimensions of scan\n",
    "#grid_size is number of steps in the grid x and y axes\n",
    "#grid_dim is the actual length of the sides of the square scanned by the grid, in mm\n",
    "\n",
    "if len(glob.glob(\"./\"+path_label+\"_map/*.spx\")) == 200:\n",
    "    grid_size = 10\n",
    "    grid_dim = 15\n",
    "elif len(glob.glob(\"./\"+path_label+\"_map/*.spx\")) == 800:\n",
    "    grid_size = 20\n",
    "    grid_dim = 0.5\n",
    "else:\n",
    "    raise FileNotFoundError(\"Folder contains neither 200 nor 800 .spx files.\")\n",
    "\n",
    "print(\"{0}x{0} grid\".format(grid_size))\n",
    "\n",
    "#dat[\"Xx_Yy_dZ\"] contains data from element Xx, characteristic line Yy, detector Z\n",
    "dat = {\n",
    "    \"Si_ka_d1\": np.zeros((grid_size, grid_size)),\n",
    "    \"Si_ka_d2\": np.zeros((grid_size, grid_size)),\n",
    "    \"Ga_ka_d1\": np.zeros((grid_size, grid_size)),\n",
    "    \"Ga_ka_d2\": np.zeros((grid_size, grid_size)),\n",
    "    \"Ga_kb_d1\": np.zeros((grid_size, grid_size)),\n",
    "    \"Ga_kb_d2\": np.zeros((grid_size, grid_size)),\n",
    "    \"Ga_l_d1\":  np.zeros((grid_size, grid_size)),\n",
    "    \"Ga_l_d2\":  np.zeros((grid_size, grid_size)),\n",
    "    \"P_ka_d1\":  np.zeros((grid_size, grid_size)),\n",
    "    \"P_ka_d2\":  np.zeros((grid_size, grid_size))\n",
    "}"
   ]
  },
  {
   "cell_type": "markdown",
   "id": "0cb34f7a-d4e4-411f-b968-7fdb010ff8e1",
   "metadata": {},
   "source": [
    "## PyMca\n",
    "Format is ;-separated csv file. First row is headers. The first two columns are a row and column entry. PyMca assumes that your data are in a grid but it doesn't know how our data are arranged, so it just dumps them all into a list of rows. Thankfully, the list has all our data ordered 0_0, 0_1, 0_2, etc. This means the row number can be used to determine the x and y coordinates of the spectrum with a bit of math. The y coordinate is row # mod 10, and the x coordinate is (row number / 10) mod 10. For grids with a different size (e.g. 20x20) the 10 is replaced with the size of the grid."
   ]
  },
  {
   "cell_type": "raw",
   "id": "d847f118-d7bb-40a0-8965-b8637ed5097d",
   "metadata": {},
   "source": [
    "source = \"PyMca\"\n",
    "\n",
    "#glob list of fit files - exclude *.spx_2.1.00001.1.fit because those are the inadvertent fits to the bruker SNIP background\n",
    "fit_file_list = glob.glob(path_label + \"_map/fits_out/FIT/*/*.spx_1.1.00001.1.fit\")\n",
    "\n",
    "for fname in fit_file_list:\n",
    "    f = open(fname, \"r\")\n",
    "\n",
    "    si_counts = 0\n",
    "    ga_ka_counts = 0\n",
    "    ga_kb_counts = 0\n",
    "    ga_l_counts = 0\n",
    "    p_counts = 0\n",
    "    \n",
    "    s = f.readline()\n",
    "    while s != \"\":\n",
    "        if \"result.Si Ka\" in s:\n",
    "            si_counts = float(f1.readline().split(\" \")[-1])\n",
    "        elif \"result.P Ka\" in s:\n",
    "            p_counts = float(f1.readline().split(\" \")[-1])\n",
    "        elif \"result.Ga Ka\" in s:\n",
    "            ga_ka_counts = float(f1.readline().split(\" \")[-1])\n",
    "        elif \"result.Ga Kb\" in s:\n",
    "            ga_kb_counts = float(f1.readline().split(\" \")[-1])\n",
    "    del s\n",
    "    "
   ]
  },
  {
   "cell_type": "code",
   "execution_count": 6,
   "id": "fb7a0b84-9fa1-4b8f-877a-71e2174c24c6",
   "metadata": {},
   "outputs": [],
   "source": [
    "source = \"PyMca\"\n",
    "\n",
    "#glob can be used here because there is only one csv file, and it is useful in case the file name format changes\n",
    "input_file = open(glob.glob(\"./\" + path_label + \"_map/fits_out/IMAGES/*.csv\")[0], \"r\")\n",
    "\n",
    "s = input_file.readline().split(\";\")\n",
    "\n",
    "while s != [\"\"]:\n",
    "    \n",
    "    #only read lines that start with a number\n",
    "    #also, only read lines in column zero. When PyMca does batch fits on .spx\n",
    "    #files, it will interpret the SNIP background from the bruker software as\n",
    "    #its own spectrum, and fit both the actual spectrum and the background as\n",
    "    #though they were both spectra. When it does this, the csv file contains\n",
    "    #peak areas from the actual spectrum in column 0, and peak areas from the\n",
    "    #background in column 1.\n",
    "    if s[0][0].isnumeric() and s[1] == \"0\": \n",
    "        \n",
    "        index = int(s[0]) #file index is first in the line\n",
    "        x = int(((index)/grid_size) % grid_size)\n",
    "        y = int((index) % grid_size)\n",
    "        \n",
    "        si_counts = float(s[2])\n",
    "        ga_ka_counts = float(s[8])\n",
    "        ga_kb_counts = float(s[9])\n",
    "        #combine data from La1, La2, La3 since they are indistuinguishable with Si(Li) detector\n",
    "        ga_l_counts = float(s[10]) + float(s[11]) + float(s[12])\n",
    "        p_counts = float(s[4])\n",
    "        \n",
    "        if int(s[0]) < grid_size**2 : #separate into detector 1 and detector 2\n",
    "            dat[\"Si_ka_d1\"][y][x] = si_counts\n",
    "            dat[\"Ga_ka_d1\"][y][x] = ga_ka_counts\n",
    "            dat[\"Ga_kb_d1\"][y][x] = ga_kb_counts\n",
    "            dat[\"Ga_l_d1\"][y][x] = ga_l_counts\n",
    "            dat[\"P_ka_d1\"][y][x] = p_counts\n",
    "            \n",
    "        elif int(s[0]) >= grid_size**2:\n",
    "            dat[\"Si_ka_d2\"][y][x] = si_counts\n",
    "            dat[\"Ga_ka_d2\"][y][x] = ga_ka_counts\n",
    "            dat[\"Ga_kb_d2\"][y][x] = ga_kb_counts\n",
    "            dat[\"Ga_l_d2\"][y][x] = ga_l_counts\n",
    "            dat[\"P_ka_d2\"][y][x] = p_counts\n",
    "\n",
    "    s = input_file.readline().split(\";\")\n",
    "        \n",
    "input_file.close()"
   ]
  },
  {
   "cell_type": "markdown",
   "id": "26def5dc-e261-4e05-98df-a0a19975fc5f",
   "metadata": {},
   "source": [
    "# Heatmap\n",
    "These cells plot heatmaps of the data."
   ]
  },
  {
   "cell_type": "markdown",
   "id": "49b06a53-c773-4dfd-aa90-1a0aeffc8e4b",
   "metadata": {},
   "source": [
    "## Contour map\n",
    "This cell plots the data with `contourf()`, resulting in a smoothed plot with discrete levels."
   ]
  },
  {
   "cell_type": "code",
   "execution_count": 38,
   "id": "f6c1ca1a-a8d9-4950-90d2-86aa92691f9d",
   "metadata": {},
   "outputs": [],
   "source": [
    "ms = 20 #marker size\n",
    "title_font = {\"fontsize\": 36}\n",
    "legend_font_size = 20\n",
    "axes_font = {\"fontsize\": 30}\n",
    "tick_label_size = 20\n",
    "fit_line_size = 3\n",
    "grid_width = 0.4\n",
    "\n",
    "figure_size = (8, 7)"
   ]
  },
  {
   "cell_type": "code",
   "execution_count": 45,
   "id": "a91415e2-8d67-4ace-bdcc-95a441a29cca",
   "metadata": {},
   "outputs": [
    {
     "data": {
      "image/png": "[encoded data removed]",
      "text/plain": [
       "<Figure size 800x700 with 2 Axes>"
      ]
     },
     "metadata": {},
     "output_type": "display_data"
    }
   ],
   "source": [
    "c=\"viridis\" #colormap to use\n",
    "l = 10 #how many levels in the contour map\n",
    "\n",
    "fg, ax = plt.subplots(nrows=1, ncols=1, figsize=figure_size, layout=\"constrained\")\n",
    "\n",
    "im_pointer = ax.contourf(dat[\"Ga_ka_d1\"], levels = l, extent = [0, grid_dim, 0, grid_dim], cmap=c, origin = \"lower\")\n",
    "\n",
    "cb = plt.colorbar(im_pointer, ax=ax)\n",
    "cb.formatter.set_powerlimits((-5,5))\n",
    "cb.ax.tick_params(axis=\"both\", which=\"major\", labelsize=tick_label_size) #color bar label size\n",
    "cb.ax.yaxis.get_offset_text().set_fontsize(tick_label_size) #color bar scientific notation size\n",
    "\n",
    "ax.tick_params(axis=\"both\", which=\"major\", labelsize=tick_label_size)\n",
    "ax.set_title(\"Ga K\\u03b1 intensity\", fontdict=title_font)\n",
    "ax.set_xlabel(\"x, mm\", fontdict=axes_font)\n",
    "ax.set_ylabel(\"y, mm\", fontdict=axes_font)\n",
    "\n",
    "#fg.suptitle(sample_name + \" maps from \" + source)\n",
    "\n",
    "plt.show()\n",
    "#plt.savefig()\n",
    "\n",
    "#for contourf(), [0][0] is displayed in the bottom left, [0][9] is in the bottom right\n",
    "#for imshow(), [0][0] is displayed in the top left, [0][9] is in the top right"
   ]
  },
  {
   "cell_type": "code",
   "execution_count": null,
   "id": "0f71bcbe-7b8c-4120-946d-ff4528fb5ef3",
   "metadata": {},
   "outputs": [],
   "source": []
  }
 ],
 "metadata": {
  "kernelspec": {
   "display_name": "Python 3 (ipykernel)",
   "language": "python",
   "name": "python3"
  },
  "language_info": {
   "codemirror_mode": {
    "name": "ipython",
    "version": 3
   },
   "file_extension": ".py",
   "mimetype": "text/x-python",
   "name": "python",
   "nbconvert_exporter": "python",
   "pygments_lexer": "ipython3",
   "version": "3.11.4"
  }
 },
 "nbformat": 4,
 "nbformat_minor": 5
}
