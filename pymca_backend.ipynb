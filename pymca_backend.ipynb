{
 "cells": [
  {
   "cell_type": "code",
   "execution_count": 26,
   "id": "3901fc54-8241-4271-95b1-6785d4b10354",
   "metadata": {},
   "outputs": [],
   "source": [
    "from PyMca5.PyMca import McaAdvancedFitBatch as batch\n",
    "from PyMca5.PyMcaPhysics.xrf.XRFBatchFitOutput import OutputBuffer\n",
    "import glob"
   ]
  },
  {
   "cell_type": "code",
   "execution_count": 27,
   "id": "51412117-6845-48eb-8111-f06cc497a09a",
   "metadata": {},
   "outputs": [],
   "source": [
    "configfile = glob.glob(\"*.cfg\")[0]\n",
    "fl = glob.glob(\"./20230531_CVD_3158_map/text_out/*.txt\")\n",
    "out = \"C:/Users/elf/Desktop/b\""
   ]
  },
  {
   "cell_type": "code",
   "execution_count": 29,
   "id": "39d25de5-e7ff-4ed6-8aa1-3de504f16686",
   "metadata": {},
   "outputs": [],
   "source": [
    "ob = OutputBuffer(outputDir=out,\n",
    "                             tif=False, edf=False, csv=True,\n",
    "                             h5=False, dat=False,\n",
    "                             multipage=False,\n",
    "                             overwrite=True)\n",
    "\n",
    "m = batch.McaAdvancedFitBatch(configfile, filelist=fl, outputdir=out, fitfiles=True, outbuffer=ob, overwrite=True)\n",
    "m.processList()"
   ]
  },
  {
   "cell_type": "code",
   "execution_count": null,
   "id": "2872a961-f7b0-4f38-ad9b-2db7e1d2ce9a",
   "metadata": {},
   "outputs": [],
   "source": []
  }
 ],
 "metadata": {
  "kernelspec": {
   "display_name": "Python 3 (ipykernel)",
   "language": "python",
   "name": "python3"
  },
  "language_info": {
   "codemirror_mode": {
    "name": "ipython",
    "version": 3
   },
   "file_extension": ".py",
   "mimetype": "text/x-python",
   "name": "python",
   "nbconvert_exporter": "python",
   "pygments_lexer": "ipython3",
   "version": "3.11.3"
  }
 },
 "nbformat": 4,
 "nbformat_minor": 5
}
