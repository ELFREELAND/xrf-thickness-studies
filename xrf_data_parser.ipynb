{
 "cells": [
  {
   "cell_type": "markdown",
   "id": "2e43d7b9-d3b1-4f85-9672-011671f1956b",
   "metadata": {},
   "source": [
    "### Imports"
   ]
  },
  {
   "cell_type": "code",
   "execution_count": 1,
   "id": "15d389ad",
   "metadata": {},
   "outputs": [],
   "source": [
    "from matplotlib import pyplot as plt\n",
    "import xml.etree.ElementTree as et\n",
    "import numpy as np\n",
    "import glob"
   ]
  },
  {
   "cell_type": "markdown",
   "id": "f0627ee8-49d1-49ad-92f4-da6abd434ad1",
   "metadata": {},
   "source": [
    "### File selection"
   ]
  },
  {
   "cell_type": "code",
   "execution_count": null,
   "id": "4cc848df-25fd-4270-a2f0-e98b13bcca4d",
   "metadata": {},
   "outputs": [],
   "source": [
    "#this just allows easy folder selection so you don't have to copy the name from the file browser\n",
    "\n",
    "folders = glob.glob(\"*_map\")\n",
    "for i in range(0, len(folders)):\n",
    "    print(str(i) + \"\\t\" + str(folders[i]))"
   ]
  },
  {
   "cell_type": "raw",
   "id": "0546b538-0349-4f51-bd53-cae4a0c73cc5",
   "metadata": {},
   "source": [
    "path_label = folders[0][0:-4]\n",
    "\n",
    "sample_name = \"CVD\" + path_label[-4:]\n",
    "\n",
    "if len(glob.glob(\"./\"+path_label+\"_map/*.spx\")) == 200:\n",
    "    grid_size = 10\n",
    "elif len(glob.glob(\"./\"+path_label+\"_map/*.spx\")) == 800:\n",
    "    grid_size = 20\n",
    "else:\n",
    "    raise FileNotFoundError(\"Folder contains neither 200 nor 800 .spx files.\")\n",
    "\n",
    "#edit this to change which grid point is read\n",
    "spec = [1, 5]\n",
    "\n",
    "fp1 = (\"./\" + path_label + \"_map/\" + path_label + \"_60s_\" +\n",
    "       str(grid_size) + \"x\" + str(grid_size) + \"ptsdet_1_\" + str(spec[0]) + \"_\" + str(spec[1]) + \".spx\")\n",
    "\n",
    "fp2 = (\"./\" + path_label + \"_map/\" + path_label + \"_60s_\" +\n",
    "       str(grid_size) + \"x\" + str(grid_size) + \"ptsdet_2_\" + str(spec[0]) + \"_\" + str(spec[1]) + \".spx\")"
   ]
  },
  {
   "cell_type": "code",
   "execution_count": 9,
   "id": "3a0080ba-f500-4ea6-8eca-0222f3fa4a77",
   "metadata": {},
   "outputs": [],
   "source": [
    "fp1 = r\"C:\\Users\\elf\\Documents\\GitHub\\xrf-thickness-studies\\20230712_CVD_3158_scantime\\20230712_CVD_3158_60m 1.spx\""
   ]
  },
  {
   "cell_type": "markdown",
   "id": "14d66519-8be2-4c26-b8fa-5bc694d31da5",
   "metadata": {},
   "source": [
    "### Function definitions"
   ]
  },
  {
   "cell_type": "code",
   "execution_count": 3,
   "id": "48f8c05a",
   "metadata": {},
   "outputs": [],
   "source": [
    "def getIntensity(r, z):\n",
    "    \"\"\"z can be an int or string representing atomic number of element. (not a float)\n",
    "    returns net intensity of element z\"\"\"\n",
    "    result = r.findall(\"./ClassInstance[@Type='TRTSpectrum']/ClassInstance[@Type='TRTResult']/RoiResults/Atom[.='\"\n",
    "                         + str(z)\n",
    "                         + \"']/..\")\n",
    "    if len(result) == 0:\n",
    "        raise Exception(\"Could not find intensity of element \" + str(z))\n",
    "    else:\n",
    "        print(result[0].findall(\"./Description\")[0].text, \"Peak\")\n",
    "        return int(result[0].findall(\"./NetCounts\")[0].text)"
   ]
  },
  {
   "cell_type": "code",
   "execution_count": 4,
   "id": "d2b20d42",
   "metadata": {},
   "outputs": [],
   "source": [
    "def getEnergyAxis(r):\n",
    "    num_channels = int(r.findall(\"./ClassInstance[@Type='TRTSpectrum']/ClassInstance[@Type='TRTSpectrumHeader']/\"\n",
    "                                 \"ChannelCount\")[0].text)\n",
    "    chan_to_en_m = float(r.findall(\"./ClassInstance[@Type='TRTSpectrum']/ClassInstance[@Type='TRTSpectrumHeader']/\"\n",
    "                                 \"CalibLin\")[0].text)\n",
    "    chan_to_en_b = float(r.findall(\"./ClassInstance[@Type='TRTSpectrum']/ClassInstance[@Type='TRTSpectrumHeader']/\"\n",
    "                                 \"CalibAbs\")[0].text)\n",
    "    return np.arange(0, 4096)*chan_to_en_m + chan_to_en_b"
   ]
  },
  {
   "cell_type": "code",
   "execution_count": 5,
   "id": "7be4adc6",
   "metadata": {},
   "outputs": [],
   "source": [
    "def getRawCountsData(r):\n",
    "    data = r.findall(\"./ClassInstance[@Type='TRTSpectrum']/Channels\")[0].text.split(\",\")\n",
    "    #for i in range(0, len(data)):\n",
    "    #    data[i] = int(data[i])\n",
    "\n",
    "    #numpy can convert str to int\n",
    "    return np.array(data, dtype=int)"
   ]
  },
  {
   "cell_type": "code",
   "execution_count": 6,
   "id": "24f0e7c4",
   "metadata": {},
   "outputs": [],
   "source": [
    "def getBackgroundData(r):\n",
    "    background = r.findall(\"./ClassInstance[@Type='TRTSpectrum']/ChildClassInstances/ClassInstance\"\n",
    "          \"[@Type='TRTXRFBulkQuantificationResults']/TRTSpectrumQuantificationResults/\"\n",
    "          \"ClassInstance[@Type='TRTSpectrumList']/ChildClassInstances/ClassInstance\"\n",
    "          \"[@Type='TRTSpectrum']/Channels\")[0].text.split(\",\")\n",
    "    #for i in range(0, len(background)):\n",
    "    #    background[i] = float(background[i])\n",
    "\n",
    "    #numpy can convert str to float\n",
    "    return np.array(background, dtype=float)"
   ]
  },
  {
   "cell_type": "markdown",
   "id": "75b9dca0-de0a-4126-b12e-5030b9b86391",
   "metadata": {},
   "source": [
    "### Data reading\n",
    "modify this cell to change which data is read"
   ]
  },
  {
   "cell_type": "code",
   "execution_count": 10,
   "id": "6bec12fb-78b8-422a-a1a5-76727d370499",
   "metadata": {},
   "outputs": [],
   "source": [
    "dat = {\n",
    "    \"d1_counts\": getRawCountsData(et.parse(fp1).getroot()),\n",
    "    \"energy\": getEnergyAxis(et.parse(fp1).getroot())}"
   ]
  },
  {
   "cell_type": "markdown",
   "id": "3e00be8e-af75-4287-8a62-cdd9cdb4c074",
   "metadata": {},
   "source": [
    "### Plotting\n",
    "modify this cell to change how the data is plotted"
   ]
  },
  {
   "cell_type": "code",
   "execution_count": 19,
   "id": "f494d147",
   "metadata": {},
   "outputs": [
    {
     "data": {
      "image/png": "[encoded data removed]",
      "text/plain": [
       "<Figure size 1000x500 with 1 Axes>"
      ]
     },
     "metadata": {},
     "output_type": "display_data"
    }
   ],
   "source": [
    "upper_ylim = np.max(dat[\"d1_counts\"][150:]) + 5000\n",
    "\n",
    "f, ax = plt.subplots(figsize=(10,5))\n",
    "ax.plot(dat[\"energy\"], dat[\"d1_counts\"], label = \"detector 1\")\n",
    "#ax.plot(dat[\"energy\"], dat[\"d2_counts\"], label = \"detector 2\")\n",
    "ax.set_xlabel(\"Energy, keV\")\n",
    "ax.set_ylabel(\"Intensity\")\n",
    "#ax.set_title(sample_name + \" XRF spectrum, \" + str(spec))\n",
    "#ax.legend()\n",
    "\n",
    "#square root scale\n",
    "#ax.set_yscale(\"function\", functions=(np.sqrt, lambda x: x*x))\n",
    "\n",
    "ax.axis([0.4, 1, 0, 5000])\n",
    "ax.grid(True)\n",
    "plt.show()"
   ]
  },
  {
   "cell_type": "code",
   "execution_count": null,
   "id": "ba118e6c-752d-4b3d-9e94-dc856ce84553",
   "metadata": {},
   "outputs": [],
   "source": []
  }
 ],
 "metadata": {
  "kernelspec": {
   "display_name": "Python 3 (ipykernel)",
   "language": "python",
   "name": "python3"
  },
  "language_info": {
   "codemirror_mode": {
    "name": "ipython",
    "version": 3
   },
   "file_extension": ".py",
   "mimetype": "text/x-python",
   "name": "python",
   "nbconvert_exporter": "python",
   "pygments_lexer": "ipython3",
   "version": "3.11.3"
  }
 },
 "nbformat": 4,
 "nbformat_minor": 5
}
